{
 "cells": [
  {
   "cell_type": "code",
   "execution_count": 2,
   "metadata": {},
   "outputs": [],
   "source": [
    "import sqlite3\n",
    "\n",
    "# 데이터베이스 연결 (파일이 없으면 새로 생성)\n",
    "conn = sqlite3.connect('dev.db')\n",
    "\n",
    "# 커서 생성\n",
    "cursor = conn.cursor()\n",
    "\n",
    "# User 테이블 생성\n",
    "cursor.execute('''\n",
    "CREATE TABLE IF NOT EXISTS User (\n",
    "    userId INTEGER PRIMARY KEY AUTOINCREMENT,\n",
    "    name TEXT NOT NULL\n",
    ")\n",
    "''')\n",
    "\n",
    "# Room 테이블 생성\n",
    "cursor.execute('''\n",
    "CREATE TABLE IF NOT EXISTS Room (\n",
    "    roomId INTEGER PRIMARY KEY AUTOINCREMENT,\n",
    "    roomName TEXT NOT NULL,\n",
    "    capacity INTEGER NOT NULL\n",
    ")\n",
    "''')\n",
    "\n",
    "# Reservation 테이블 생성\n",
    "cursor.execute('''\n",
    "CREATE TABLE IF NOT EXISTS Reservation (\n",
    "    reservationId INTEGER PRIMARY KEY AUTOINCREMENT,\n",
    "    userId INTEGER,\n",
    "    roomId INTEGER,\n",
    "    content TEXT,\n",
    "    startTime DATETIME NOT NULL,\n",
    "    endTime DATETIME NOT NULL,\n",
    "    status INTEGER NOT NULL,\n",
    "    regDate DATETIME NOT NULL,\n",
    "    FOREIGN KEY (userId) REFERENCES User(userId),\n",
    "    FOREIGN KEY (roomId) REFERENCES Room(roomId)\n",
    ")\n",
    "''')\n",
    "\n",
    "# 변경사항 커밋\n",
    "conn.commit()\n",
    "\n",
    "# 연결 종료\n",
    "conn.close()"
   ]
  },
  {
   "cell_type": "code",
   "execution_count": 5,
   "metadata": {},
   "outputs": [],
   "source": [
    "import sqlite3\n",
    "\n",
    "# 데이터베이스 연결\n",
    "conn = sqlite3.connect('dev.db')\n",
    "\n",
    "# 커서 생성 \n",
    "cursor = conn.cursor()\n",
    "\n",
    "# Reservation 테이블의 모든 데이터 삭제\n",
    "cursor.execute('DELETE FROM Reservation')\n",
    "\n",
    "# 변경사항 커밋\n",
    "conn.commit()\n",
    "\n",
    "# 연결 종료\n",
    "conn.close()\n"
   ]
  },
  {
   "cell_type": "code",
   "execution_count": null,
   "metadata": {},
   "outputs": [],
   "source": [
    "import sqlite3\n",
    "\n",
    "# 데이터베이스 연결 (파일이 없으면 새로 생성)\n",
    "conn = sqlite3.connect('dev.db')\n",
    "\n",
    "# 커서 생성\n",
    "cursor = conn.cursor()\n",
    "\n",
    "# 데이터 삽입\n",
    "cursor.execute('''\n",
    "INSERT INTO User (userId, name) VALUES (?, ?)\n",
    "''', (1, 'jihwan'))\n",
    "\n",
    "# 변경사항 커밋\n",
    "conn.commit()\n",
    "\n",
    "# 연결 종료\n",
    "conn.close()"
   ]
  },
  {
   "cell_type": "code",
   "execution_count": null,
   "metadata": {},
   "outputs": [],
   "source": [
    "conn = sqlite3.connect('dev.db')\n",
    "\n",
    "# 커서 생성\n",
    "cursor = conn.cursor()\n",
    "\n",
    "# 데이터 조회\n",
    "cursor.execute('SELECT * FROM User')\n",
    "rows = cursor.fetchall()\n",
    "for row in rows:\n",
    "    print(row)\n",
    "\n",
    "# 변경사항 커밋\n",
    "conn.commit()\n",
    "\n",
    "# 연결 종료\n",
    "conn.close()"
   ]
  },
  {
   "cell_type": "code",
   "execution_count": null,
   "metadata": {},
   "outputs": [],
   "source": []
  },
  {
   "cell_type": "code",
   "execution_count": null,
   "metadata": {},
   "outputs": [],
   "source": []
  },
  {
   "cell_type": "code",
   "execution_count": null,
   "metadata": {},
   "outputs": [],
   "source": []
  },
  {
   "cell_type": "code",
   "execution_count": null,
   "metadata": {},
   "outputs": [],
   "source": []
  }
 ],
 "metadata": {
  "kernelspec": {
   "display_name": "Python 3",
   "language": "python",
   "name": "python3"
  },
  "language_info": {
   "codemirror_mode": {
    "name": "ipython",
    "version": 3
   },
   "file_extension": ".py",
   "mimetype": "text/x-python",
   "name": "python",
   "nbconvert_exporter": "python",
   "pygments_lexer": "ipython3",
   "version": "3.10.12"
  }
 },
 "nbformat": 4,
 "nbformat_minor": 2
}
